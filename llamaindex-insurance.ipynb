{
 "cells": [
  {
   "cell_type": "code",
   "execution_count": 1,
   "id": "e3b2585d-d77b-4033-b2e0-3647af4724e9",
   "metadata": {
    "tags": []
   },
   "outputs": [],
   "source": [
    "from llama_index import GPTSimpleVectorIndex, LLMPredictor, download_loader\n",
    "from langchain.llms import OpenAIChat\n",
    "from dotenv import load_dotenv\n",
    "from pathlib import Path\n",
    "import requests\n",
    "import shutil"
   ]
  },
  {
   "cell_type": "code",
   "execution_count": 2,
   "id": "59b53c5f-8c2a-4e66-9748-30edbe652f5f",
   "metadata": {
    "tags": []
   },
   "outputs": [
    {
     "data": {
      "text/plain": [
       "True"
      ]
     },
     "execution_count": 2,
     "metadata": {},
     "output_type": "execute_result"
    }
   ],
   "source": [
    "load_dotenv()"
   ]
  },
  {
   "cell_type": "code",
   "execution_count": 3,
   "id": "16bb502c-6c2b-4fb8-8eee-3fc51f29fa1a",
   "metadata": {
    "tags": []
   },
   "outputs": [],
   "source": [
    "# Download the PDF file which will be indexed\n",
    "\n",
    "PDF_NAME = 'policywording_153.pdf'\n",
    "\n",
    "file = requests.get('http://www.axainsurance.com/home/policy-wording/{}'.format(PDF_NAME), stream=True)\n",
    "with open(PDF_NAME, 'wb') as location:\n",
    "    shutil.copyfileobj(file.raw, location)"
   ]
  },
  {
   "cell_type": "code",
   "execution_count": 4,
   "id": "7eb28f6a-3118-4be2-8086-f71b3e3b8ea4",
   "metadata": {
    "tags": []
   },
   "outputs": [
    {
     "name": "stdout",
     "output_type": "stream",
     "text": [
      "Collecting PyPDF2\n",
      "  Using cached pypdf2-3.0.1-py3-none-any.whl (232 kB)\n",
      "Requirement already satisfied: typing_extensions>=3.10.0.0 in /home/dkemper/anaconda3/envs/llamaindex/lib/python3.9/site-packages (from PyPDF2->-r /home/dkemper/anaconda3/envs/llamaindex/lib/python3.9/site-packages/llama_index/readers/llamahub_modules/file/pdf/requirements.txt (line 1)) (4.5.0)\n",
      "Installing collected packages: PyPDF2\n",
      "Successfully installed PyPDF2-3.0.1\n"
     ]
    },
    {
     "name": "stderr",
     "output_type": "stream",
     "text": [
      "INFO:root:> [build_index_from_documents] Total LLM token usage: 0 tokens\n",
      "INFO:root:> [build_index_from_documents] Total embedding token usage: 32110 tokens\n"
     ]
    }
   ],
   "source": [
    "llm_predictor = LLMPredictor(llm=OpenAIChat(temperature=0, model_name=\"gpt-3.5-turbo\"))\n",
    "\n",
    "PDFReader = download_loader(\"PDFReader\")\n",
    "loader = PDFReader()\n",
    "documents = loader.load_data(file=Path(PDF_NAME))\n",
    "index = GPTSimpleVectorIndex(documents, llm_predictor=llm_predictor)"
   ]
  },
  {
   "cell_type": "code",
   "execution_count": 5,
   "id": "dd66d351-d689-4f7c-8955-8a19ad7b3661",
   "metadata": {
    "tags": []
   },
   "outputs": [
    {
     "name": "stderr",
     "output_type": "stream",
     "text": [
      "INFO:root:> [query] Total LLM token usage: 623 tokens\n",
      "INFO:root:> [query] Total embedding token usage: 16 tokens\n"
     ]
    },
    {
     "name": "stdout",
     "output_type": "stream",
     "text": [
      "You can send a complaint to the Financial Ombudsman Service at Exchange Tower, Harbour Exchange Square, London, E14 9SR. Their phone numbers are 0300 123 9123 or 0800 023 4567.\n"
     ]
    }
   ],
   "source": [
    "response = index.query(\"Where can I send a complaint? Please provide full address details and phone number.\")\n",
    "print(response)"
   ]
  },
  {
   "cell_type": "code",
   "execution_count": 6,
   "id": "261cc192-55e6-4600-b400-b7050a180dc8",
   "metadata": {
    "tags": []
   },
   "outputs": [
    {
     "name": "stderr",
     "output_type": "stream",
     "text": [
      "INFO:root:> [query] Total LLM token usage: 3602 tokens\n",
      "INFO:root:> [query] Total embedding token usage: 16 tokens\n"
     ]
    },
    {
     "name": "stdout",
     "output_type": "stream",
     "text": [
      "- Acknowledge all complaints promptly.\n",
      "- Investigate quickly and thoroughly.\n",
      "- Keep the complainant informed of progress.\n",
      "- Do everything possible to resolve the complaint.\n",
      "- Use the information from complaints to continuously improve their service.\n"
     ]
    }
   ],
   "source": [
    "response = index.query(\"What promises does AXA make? Please provide them as a bulleted list.\")\n",
    "print(response)"
   ]
  },
  {
   "cell_type": "code",
   "execution_count": 7,
   "id": "b909773a-c6da-4b5b-b3a8-bc27ab60d49a",
   "metadata": {
    "tags": []
   },
   "outputs": [
    {
     "name": "stderr",
     "output_type": "stream",
     "text": [
      "INFO:root:> [query] Total LLM token usage: 3651 tokens\n",
      "INFO:root:> [query] Total embedding token usage: 10 tokens\n"
     ]
    },
    {
     "name": "stdout",
     "output_type": "stream",
     "text": [
      "Loss or damage to bicycles is not covered by the contents insurance policy.\n"
     ]
    }
   ],
   "source": [
    "response = index.query(\"What is not covered by my bicycle insurance policy?\")\n",
    "print(response)"
   ]
  },
  {
   "cell_type": "code",
   "execution_count": 8,
   "id": "b6a3aab6-1a16-4604-9ac0-38343a7a485a",
   "metadata": {},
   "outputs": [
    {
     "name": "stderr",
     "output_type": "stream",
     "text": [
      "INFO:root:> [query] Total LLM token usage: 3571 tokens\n",
      "INFO:root:> [query] Total embedding token usage: 12 tokens\n"
     ]
    },
    {
     "name": "stdout",
     "output_type": "stream",
     "text": [
      "You can make changes to your home insurance policy online. It is your responsibility to make any changes to your policy online. If you request AXA to make any changes or corrections to your policy on your behalf, they reserve the right to charge up to £30. If you are in doubt, you can ask AXA.\n"
     ]
    }
   ],
   "source": [
    "response = index.query(\"How can I make a change to my home insurance policy?\")\n",
    "print(response)"
   ]
  },
  {
   "cell_type": "code",
   "execution_count": 9,
   "id": "a1800ddf-6950-4694-8001-067a7131ab25",
   "metadata": {
    "tags": []
   },
   "outputs": [
    {
     "name": "stderr",
     "output_type": "stream",
     "text": [
      "INFO:root:> [query] Total LLM token usage: 3558 tokens\n",
      "INFO:root:> [query] Total embedding token usage: 7 tokens\n"
     ]
    },
    {
     "name": "stdout",
     "output_type": "stream",
     "text": [
      "The context information does not provide information about AXA's website.\n"
     ]
    }
   ],
   "source": [
    "response = index.query(\"What is AXA's website?\")\n",
    "print(response)"
   ]
  },
  {
   "cell_type": "code",
   "execution_count": 10,
   "id": "6236eecd-2168-4d8a-9d9d-d0d06cdbcee2",
   "metadata": {
    "tags": []
   },
   "outputs": [
    {
     "name": "stderr",
     "output_type": "stream",
     "text": [
      "INFO:root:> [query] Total LLM token usage: 3708 tokens\n",
      "INFO:root:> [query] Total embedding token usage: 8 tokens\n"
     ]
    },
    {
     "name": "stdout",
     "output_type": "stream",
     "text": [
      "\n",
      "\n",
      "1. Buildings: The structure of the home, including landlord’s fixtures and fittings, and other elements such as oil and gas tanks, permanent swimming pools, walls, gates, fences, hedges, terraces, patios, drives, paths, car ports, garages, and outbuildings that form part of the property.\n",
      "2. Contents: Household goods, frozen foods, personal effects, business equipment, valuables, and money that belong to the policyholder or their family and are mainly used for private purposes.\n",
      "3. Domestic staff: A person employed to carry out domestic duties associated with the policyholder's home and not employed by them in connection with any business, trade, profession, or employment.\n",
      "4. Excess: The amount that the policyholder must pay as the first part of each and every claim made.\n",
      "5. Home: The private residence shown in the policy schedule, including its garages and outbuildings if they form part of the property.\n"
     ]
    }
   ],
   "source": [
    "response = index.query(\"Please list 5 definitions and their clarifications\")\n",
    "print(response)"
   ]
  },
  {
   "cell_type": "code",
   "execution_count": 11,
   "id": "f83589f6-e9c5-48a5-9392-807dc177993a",
   "metadata": {
    "tags": []
   },
   "outputs": [
    {
     "name": "stderr",
     "output_type": "stream",
     "text": [
      "INFO:root:> [query] Total LLM token usage: 3810 tokens\n",
      "INFO:root:> [query] Total embedding token usage: 30 tokens\n"
     ]
    },
    {
     "name": "stdout",
     "output_type": "stream",
     "text": [
      "\n",
      "\n",
      "Coverages:\n",
      "- Emergency services forced entry\n",
      "- Keys and locks\n",
      "- Credit card liability\n",
      "- Documents\n",
      "- Digital assets\n",
      "\n",
      "Limitations:\n",
      "- Loss or damage to valuables, money, and bicycles\n",
      "- Loss or damage while the home is unoccupied or unfurnished\n",
      "- Loss or damage resulting from a deliberate act by the policyholder or utility supplier\n",
      "- Legal liability arising from any business, trade, profession, or employment\n",
      "- Accidental damage or loss caused by mechanical or electrical breakdown or failure, cleaning, maintenance, repair, dismantling, restoring, altering, dyeing, washing, chewing, scratching, tearing, fouling by domestic pets, insects, or vermin, or to food, drink, or plants.\n"
     ]
    }
   ],
   "source": [
    "response = index.query(\"What types of accidental damages are covered by the Home Insurance policy and what limitations exist? Please list 5 coverages and 5 limitations separately as bulleted lists\")\n",
    "print(response)"
   ]
  },
  {
   "cell_type": "code",
   "execution_count": 12,
   "id": "5ab2f7f0-a82e-4489-9bfb-4e81230f6b86",
   "metadata": {},
   "outputs": [
    {
     "name": "stderr",
     "output_type": "stream",
     "text": [
      "INFO:root:> [query] Total LLM token usage: 3699 tokens\n",
      "INFO:root:> [query] Total embedding token usage: 10 tokens\n"
     ]
    },
    {
     "name": "stdout",
     "output_type": "stream",
     "text": [
      "Pedal power is a wonderful thing,\n",
      "But accidents can happen, it's true.\n",
      "That's why AXA Bicycle Insurance brings\n",
      "Peace of mind to cyclists like you.\n",
      "\n",
      "From theft to damage and more,\n",
      "This policy has got you covered.\n",
      "So you can ride with confidence galore,\n",
      "And not worry about being discovered.\n",
      "\n",
      "With a simple claims process in place,\n",
      "And a promise to investigate with care,\n",
      "AXA is a name you can embrace,\n",
      "For all your cycling insurance needs to bear.\n",
      "\n",
      "So hop on your bike and hit the road,\n",
      "With AXA by your side.\n",
      "You'll be protected from any unforeseen load,\n",
      "And your cycling adventures will be a joyride.\n"
     ]
    }
   ],
   "source": [
    "response = index.query(\"Please write a poem about the AXA Bicycle Insurance\")\n",
    "print(response)"
   ]
  },
  {
   "cell_type": "code",
   "execution_count": null,
   "id": "50c5ad7b-013a-4a37-8958-206997195e8d",
   "metadata": {},
   "outputs": [],
   "source": []
  }
 ],
 "metadata": {
  "kernelspec": {
   "display_name": "Python 3 (ipykernel)",
   "language": "python",
   "name": "python3"
  },
  "language_info": {
   "codemirror_mode": {
    "name": "ipython",
    "version": 3
   },
   "file_extension": ".py",
   "mimetype": "text/x-python",
   "name": "python",
   "nbconvert_exporter": "python",
   "pygments_lexer": "ipython3",
   "version": "3.9.16"
  }
 },
 "nbformat": 4,
 "nbformat_minor": 5
}
